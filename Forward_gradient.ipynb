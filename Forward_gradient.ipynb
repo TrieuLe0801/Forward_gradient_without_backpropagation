{
  "nbformat": 4,
  "nbformat_minor": 0,
  "metadata": {
    "colab": {
      "name": "Forward_gradient.ipynb",
      "provenance": [],
      "include_colab_link": true
    },
    "kernelspec": {
      "name": "python3",
      "display_name": "Python 3"
    },
    "language_info": {
      "name": "python"
    }
  },
  "cells": [
    {
      "cell_type": "markdown",
      "metadata": {
        "id": "view-in-github",
        "colab_type": "text"
      },
      "source": [
        "<a href=\"https://colab.research.google.com/github/TrieuLe0801/Forward_gradient_without_backpropagation/blob/master/Forward_gradient.ipynb\" target=\"_parent\"><img src=\"https://colab.research.google.com/assets/colab-badge.svg\" alt=\"Open In Colab\"/></a>"
      ]
    },
    {
      "cell_type": "code",
      "execution_count": null,
      "metadata": {
        "id": "R-wru3ndavZ0"
      },
      "outputs": [],
      "source": [
        "import torch\n",
        "import torch.nn as nn\n",
        "import numpy as np"
      ]
    },
    {
      "cell_type": "code",
      "source": [
        "from sklearn import datasets\n",
        "from sklearn import preprocessing\n",
        "from scipy.stats import multivariate_normal\n",
        "iris = datasets.load_iris()\n",
        "X = torch.tensor(preprocessing.normalize(iris.data[:, :2]), dtype=torch.float)\n",
        "y = torch.tensor(iris.target.reshape(-1, 1), dtype=torch.float)"
      ],
      "metadata": {
        "id": "Yr8zGzNHfNrx"
      },
      "execution_count": null,
      "outputs": []
    },
    {
      "cell_type": "code",
      "source": [
        "# Set manual seed\n",
        "torch.manual_seed(2)"
      ],
      "metadata": {
        "colab": {
          "base_uri": "https://localhost:8080/"
        },
        "id": "960qv8LJfToR",
        "outputId": "c95141fb-2b18-44da-b5d2-4cb8916bb9a7"
      },
      "execution_count": null,
      "outputs": [
        {
          "output_type": "execute_result",
          "data": {
            "text/plain": [
              "<torch._C.Generator at 0x7f17159c3dd0>"
            ]
          },
          "metadata": {},
          "execution_count": 3
        }
      ]
    },
    {
      "cell_type": "code",
      "source": [
        "print(X.size()[0])\n",
        "print(y.size())"
      ],
      "metadata": {
        "colab": {
          "base_uri": "https://localhost:8080/"
        },
        "id": "R4ZPiM5ufUyP",
        "outputId": "7621be7f-f3f8-4792-eb8c-7efa1eafb5f9"
      },
      "execution_count": null,
      "outputs": [
        {
          "output_type": "stream",
          "name": "stdout",
          "text": [
            "150\n",
            "torch.Size([150, 1])\n"
          ]
        }
      ]
    },
    {
      "cell_type": "markdown",
      "source": [
        "# **Simple torch**"
      ],
      "metadata": {
        "id": "Lf8HgXGv4988"
      }
    },
    {
      "cell_type": "code",
      "source": [
        "from pandas._libs.tslibs.period import validate_end_alias\n",
        "class FNN(nn.Module):\n",
        "    def __init__(self, ):\n",
        "        super().__init__()\n",
        "\n",
        "        # Dimensions for input, hidden and output\n",
        "        self.input_dim = 2\n",
        "        self.hidden_dim = 32\n",
        "        self.output_dim = 1\n",
        "\n",
        "        # Learning rate definition\n",
        "        self.learning_rate = 0.001\n",
        "\n",
        "        # Our parameters (weights)\n",
        "        # w1: 2 x 32\n",
        "        self.w1 = torch.randn(self.input_dim, self.hidden_dim)\n",
        "\n",
        "        # w2: 32 x 1\n",
        "        self.w2 = torch.randn(self.hidden_dim, self.output_dim)\n",
        "\n",
        "    def sigmoid(self, s):\n",
        "        return 1 / (1 + torch.exp(-s))\n",
        "\n",
        "    def sigmoid_first_order_derivative(self, s):\n",
        "        return s * (1 - s)\n",
        "\n",
        "    # Forward propagation\n",
        "    def forward(self, X):\n",
        "        # First linear layer\n",
        "        self.y1 = torch.matmul(X, self.w1) # 3 X 3 \".dot\" does not broadcast in PyTorch\n",
        "\n",
        "        # First non-linearity\n",
        "        self.y2 = self.sigmoid(self.y1)\n",
        "\n",
        "        # Second linear layer\n",
        "        self.y3 = torch.matmul(self.y2, self.w2)\n",
        "\n",
        "        # Second non-linearity\n",
        "        y4 = self.sigmoid(self.y3)\n",
        "        return y4\n",
        "\n",
        "    # Backward propagation\n",
        "    def backward(self, X, l, y4):\n",
        "        # Derivative of binary cross entropy cost w.r.t. final output y4\n",
        "        self.dC_dy4 = y4 - l\n",
        "\n",
        "        '''\n",
        "        Gradients for w2: partial derivative of cost w.r.t. w2\n",
        "        dC/dw2\n",
        "        '''\n",
        "        self.dy4_dy3 = self.sigmoid_first_order_derivative(y4)\n",
        "        self.dy3_dw2 = self.y2\n",
        "\n",
        "        # Y4 delta: dC_dy4 dy4_dy3\n",
        "        self.y4_delta = self.dC_dy4 * self.dy4_dy3\n",
        "\n",
        "        # This is our gradients for w1: dC_dy4 dy4_dy3 dy3_dw2\n",
        "        self.dC_dw2 = torch.matmul(torch.t(self.dy3_dw2), self.y4_delta)\n",
        "\n",
        "        '''\n",
        "        Gradients for w1: partial derivative of cost w.r.t w1\n",
        "        dC/dw1\n",
        "        '''\n",
        "        self.dy3_dy2 = self.w2\n",
        "        self.dy2_dy1 = self.sigmoid_first_order_derivative(self.y2)\n",
        "\n",
        "        # Y2 delta: (dC_dy4 dy4_dy3) dy3_dy2 dy2_dy1\n",
        "        self.y2_delta = torch.matmul(self.y4_delta, torch.t(self.dy3_dy2)) * self.dy2_dy1\n",
        "\n",
        "        # Gradients for w1: (dC_dy4 dy4_dy3) dy3_dy2 dy2_dy1 dy1_dw1\n",
        "        self.dC_dw1 = torch.matmul(torch.t(X), self.y2_delta)\n",
        "\n",
        "        # Gradient descent on the weights from our 2 linear layers\n",
        "        self.w1 -= self.learning_rate * self.dC_dw1\n",
        "        self.w2 -= self.learning_rate * self.dC_dw2\n",
        "\n",
        "    def train(self, X, l):\n",
        "        # Forward propagation\n",
        "        y4 = self.forward(X)\n",
        "\n",
        "        # Backward propagation and gradient descent\n",
        "        self.backward(X, l, y4)"
      ],
      "metadata": {
        "id": "C826vOnSfYb2"
      },
      "execution_count": null,
      "outputs": []
    },
    {
      "cell_type": "code",
      "source": [
        "# Instantiate our model class and assign it to our model object\n",
        "model = FNN()\n",
        "\n",
        "# Loss list for plotting of loss behaviour\n",
        "loss_lst = []\n",
        "\n",
        "# Number of times we want our FNN to look at all 100 samples we have, 100 implies looking through 100x\n",
        "num_epochs = 500\n",
        "\n",
        "# Let's train our model with 100 epochs\n",
        "for epoch in range(num_epochs):\n",
        "    # Get our predictions\n",
        "    y_hat = model(X)\n",
        "    \n",
        "    # Cross entropy loss, remember this can never be negative by nature of the equation\n",
        "    # But it does not mean the loss can't be negative for other loss functions\n",
        "    cross_entropy_loss = -(y * torch.log(y_hat) + (1 - y) * torch.log(1 - y_hat))\n",
        "    \n",
        "    # We have to take cross entropy loss over all our samples, 100 in this 2-class iris dataset\n",
        "    mean_cross_entropy_loss = torch.mean(cross_entropy_loss).detach().item()\n",
        "    \n",
        "    # Print our mean cross entropy loss\n",
        "    if epoch % 20 == 0:\n",
        "        print('Epoch {} | Loss: {}'.format(epoch, mean_cross_entropy_loss))\n",
        "    loss_lst.append(mean_cross_entropy_loss)\n",
        "    \n",
        "    # (1) Forward propagation: to get our predictions to pass to our cross entropy loss function\n",
        "    # (2) Back propagation: get our partial derivatives w.r.t. parameters (gradients)\n",
        "    # (3) Gradient Descent: update our weights with our gradients\n",
        "    model.train(X,y)"
      ],
      "metadata": {
        "colab": {
          "base_uri": "https://localhost:8080/"
        },
        "id": "jX_6uTFrfwlw",
        "outputId": "ec49f749-5236-41f5-f2db-660af6656463"
      },
      "execution_count": null,
      "outputs": [
        {
          "output_type": "stream",
          "name": "stdout",
          "text": [
            "Epoch 0 | Loss: 0.10400425642728806\n",
            "Epoch 20 | Loss: 0.09804712980985641\n",
            "Epoch 40 | Loss: 0.09328694641590118\n",
            "Epoch 60 | Loss: 0.08935928344726562\n",
            "Epoch 80 | Loss: 0.08603835105895996\n",
            "Epoch 100 | Loss: 0.08317585289478302\n",
            "Epoch 120 | Loss: 0.08066964149475098\n",
            "Epoch 140 | Loss: 0.07844727486371994\n",
            "Epoch 160 | Loss: 0.07645518332719803\n",
            "Epoch 180 | Loss: 0.07465314865112305\n",
            "Epoch 200 | Loss: 0.07301096618175507\n",
            "Epoch 220 | Loss: 0.07150297611951828\n",
            "Epoch 240 | Loss: 0.07011140137910843\n",
            "Epoch 260 | Loss: 0.06881993263959885\n",
            "Epoch 280 | Loss: 0.06761502474546432\n",
            "Epoch 300 | Loss: 0.0664873793721199\n",
            "Epoch 320 | Loss: 0.06542769074440002\n",
            "Epoch 340 | Loss: 0.06442893296480179\n",
            "Epoch 360 | Loss: 0.06348369270563126\n",
            "Epoch 380 | Loss: 0.06258773803710938\n",
            "Epoch 400 | Loss: 0.06173551082611084\n",
            "Epoch 420 | Loss: 0.060923803597688675\n",
            "Epoch 440 | Loss: 0.060148175805807114\n",
            "Epoch 460 | Loss: 0.05940607562661171\n",
            "Epoch 480 | Loss: 0.05869435518980026\n"
          ]
        }
      ]
    },
    {
      "cell_type": "markdown",
      "source": [
        "# **Synthetic Gradient**"
      ],
      "metadata": {
        "id": "n02c12qdjBJL"
      }
    },
    {
      "cell_type": "code",
      "source": [
        "class FNN_Synthetic(nn.Module):\n",
        "    def __init__(self, ):\n",
        "        super().__init__()\n",
        "\n",
        "        # Dimensions for input, hidden and output\n",
        "        self.input_dim = 2\n",
        "        self.hidden_dim = 32\n",
        "        self.output_dim = 1\n",
        "\n",
        "        # Learning rate definition\n",
        "        self.learning_rate = 0.001\n",
        "\n",
        "        # Our parameters (weights)\n",
        "        # w1: 2 x 32\n",
        "        self.w1 = torch.randn(self.input_dim, self.hidden_dim)\n",
        "        self.w1_synthetic = torch.randn(self.hidden_dim, self.hidden_dim)\n",
        "        self.bias_1 = torch.randn(self.hidden_dim)\n",
        "\n",
        "        # w2: 32 x 1\n",
        "        self.w2 = torch.randn(self.hidden_dim, self.output_dim)\n",
        "        self.w2_synthetic = torch.randn(self.output_dim, self.output_dim)\n",
        "        self.bias_2 = torch.randn(self.output_dim)\n",
        "\n",
        "    def sigmoid(self, s):\n",
        "        return 1 / (1 + torch.exp(-s))\n",
        "\n",
        "    def sigmoid_first_order_derivative(self, s):\n",
        "        return s * (1 - s)\n",
        "\n",
        "    # Forward propagation\n",
        "    def forward_and_synthetic_update(self, X, update=True):\n",
        "        # First linear layer\n",
        "        self.input = X\n",
        "        self.y1 = torch.matmul(self.input, self.w1) # 3 X 3 \".dot\" does not broadcast in PyTorch\n",
        "\n",
        "        # First non-linearity\n",
        "        self.y2 = self.sigmoid(self.y1 + self.bias_1)\n",
        "\n",
        "        if update:\n",
        "          self.synthetic_gradient_1 = torch.matmul(self.y2,self.w1_synthetic) + self.bias_1\n",
        "          self.weight_synthetic_gradient_1 = self.synthetic_gradient_1*self.sigmoid_first_order_derivative(self.y2)\n",
        "          self.w1 -= torch.matmul(torch.transpose(self.input,0,1), self.weight_synthetic_gradient_1)*self.learning_rate\n",
        "          self.bias_1 -= torch.mean(self.weight_synthetic_gradient_1,0) * self.learning_rate\n",
        "\n",
        "        # Second linear layer\n",
        "        self.y3 = torch.matmul(self.y2, self.w2)\n",
        "\n",
        "        # Second non-linearity\n",
        "        y4 = self.sigmoid(self.y3)\n",
        "        self.output= y4\n",
        "\n",
        "        if update:\n",
        "          self.synthetic_gradient_2 = torch.matmul(self.output,self.w2_synthetic) + self.bias_2\n",
        "          self.weight_synthetic_gradient_2 = self.synthetic_gradient_2*self.sigmoid_first_order_derivative(self.output)\n",
        "          self.w2 -= torch.matmul(torch.transpose(self.y2,0,1), self.weight_synthetic_gradient_2)*self.learning_rate\n",
        "          self.bias_2 -= torch.mean(self.weight_synthetic_gradient_2,0) * self.learning_rate\n",
        "\n",
        "        return torch.matmul(self.weight_synthetic_gradient_2,torch.transpose(self.w2, 0, 1)), self.output\n",
        "\n",
        "    def normal_synthetic_weights(self, X, output, y):\n",
        "        true_gradient = output - y\n",
        "        grad_2 = true_gradient * self.sigmoid_first_order_derivative(self.output)\n",
        "        \n",
        "        self.w2 -= torch.matmul(torch.transpose(self.y2,0,1),grad_2) * self.learning_rate\n",
        "        self.bias_2 -= torch.mean(grad_2,0) * self.learning_rate\n",
        "\n",
        "        grad_1 = grad_2 * self.sigmoid_first_order_derivative(self.y2)\n",
        "        \n",
        "        self.w1 -= torch.matmul(torch.transpose(X,0,1),grad_1)*self.learning_rate\n",
        "        self.bias_1 -= torch.mean(grad_1,0)*self.learning_rate\n",
        "        \n",
        "\n",
        "    def train_with_synthetic(self, X, y):\n",
        "      _, output = self.forward_and_synthetic_update(X, update=True)\n",
        "      self.normal_synthetic_weights(X, output, y)\n",
        "      "
      ],
      "metadata": {
        "id": "pSNFZ3mSf0LI"
      },
      "execution_count": null,
      "outputs": []
    },
    {
      "cell_type": "code",
      "source": [
        "# Instantiate our model class and assign it to our model object\n",
        "model = FNN_Synthetic()\n",
        "\n",
        "# Loss list for plotting of loss behaviour\n",
        "loss_lst = []\n",
        "\n",
        "# Number of times we want our FNN to look at all 100 samples we have, 100 implies looking through 100x\n",
        "num_epochs = 500\n",
        "\n",
        "# Let's train our model with 100 epochs\n",
        "for epoch in range(num_epochs):\n",
        "    # Get our predictions\n",
        "    _,y_hat = model.forward_and_synthetic_update(X)\n",
        "    \n",
        "    # Cross entropy loss, remember this can never be negative by nature of the equation\n",
        "    # But it does not mean the loss can't be negative for other loss functions\n",
        "    cross_entropy_loss = -(y * torch.log(y_hat) + (1 - y) * torch.log(1 - y_hat))\n",
        "    \n",
        "    # We have to take cross entropy loss over all our samples, 100 in this 2-class iris dataset\n",
        "    mean_cross_entropy_loss = torch.mean(cross_entropy_loss).detach().item()\n",
        "    \n",
        "    # Print our mean cross entropy loss\n",
        "    if epoch % 20 == 0:\n",
        "        print('Epoch {} | Loss: {}'.format(epoch, mean_cross_entropy_loss))\n",
        "    loss_lst.append(mean_cross_entropy_loss)\n",
        "    \n",
        "    # train without backpropagation (not really without but just back for check)\n",
        "    model.train_with_synthetic(X,y)"
      ],
      "metadata": {
        "id": "cuMX5SkWf2lP",
        "colab": {
          "base_uri": "https://localhost:8080/"
        },
        "outputId": "86b71874-e532-451b-b435-b74615241b9e"
      },
      "execution_count": null,
      "outputs": [
        {
          "output_type": "stream",
          "name": "stdout",
          "text": [
            "Epoch 0 | Loss: 1.6488170623779297\n",
            "Epoch 20 | Loss: 3.2910521030426025\n",
            "Epoch 40 | Loss: 3.4551761150360107\n",
            "Epoch 60 | Loss: 0.10038378834724426\n",
            "Epoch 80 | Loss: 0.022134065628051758\n",
            "Epoch 100 | Loss: 0.020746955648064613\n",
            "Epoch 120 | Loss: 0.027922162786126137\n",
            "Epoch 140 | Loss: 0.028838997706770897\n",
            "Epoch 160 | Loss: 0.033190250396728516\n",
            "Epoch 180 | Loss: 0.032893095165491104\n",
            "Epoch 200 | Loss: 0.027912253513932228\n",
            "Epoch 220 | Loss: 0.022654660046100616\n",
            "Epoch 240 | Loss: 0.01936769112944603\n",
            "Epoch 260 | Loss: 0.01680806465446949\n",
            "Epoch 280 | Loss: 0.01369522139430046\n",
            "Epoch 300 | Loss: 0.010337581858038902\n",
            "Epoch 320 | Loss: 0.008052155375480652\n",
            "Epoch 340 | Loss: 0.006605313625186682\n",
            "Epoch 360 | Loss: 0.005640109535306692\n",
            "Epoch 380 | Loss: 0.004940312821418047\n",
            "Epoch 400 | Loss: 0.0045160166919231415\n",
            "Epoch 420 | Loss: 0.004154227674007416\n",
            "Epoch 440 | Loss: 0.003879779251292348\n",
            "Epoch 460 | Loss: 0.003616275731474161\n",
            "Epoch 480 | Loss: 0.003483212785795331\n"
          ]
        }
      ]
    },
    {
      "cell_type": "code",
      "source": [
        ""
      ],
      "metadata": {
        "id": "D2g8j24j2w_F"
      },
      "execution_count": null,
      "outputs": []
    }
  ]
}